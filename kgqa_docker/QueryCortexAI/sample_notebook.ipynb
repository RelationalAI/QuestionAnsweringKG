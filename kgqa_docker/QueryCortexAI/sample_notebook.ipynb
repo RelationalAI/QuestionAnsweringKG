{
 "cells": [
  {
   "cell_type": "code",
   "execution_count": 1,
   "metadata": {},
   "outputs": [],
   "source": [
    "import os\n",
    "import json\n",
    "\n",
    "from prompt_formatter import create_prompt_from_file\n",
    "from query_llm import query_llm\n",
    "from utils import execute_query, TripletClause\n",
    "\n",
    "import relationalai as rai\n",
    "from relationalai.std import alias"
   ]
  },
  {
   "cell_type": "code",
   "execution_count": 2,
   "metadata": {},
   "outputs": [
    {
     "name": "stdout",
     "output_type": "stream",
     "text": [
      "\n",
      "\u001b[2m---------------------------------------------------\u001b[0m\n",
      "\u001b[2m \u001b[0m\n",
      "\u001b[35m▰▱▱▱ Checking app version\u001b[\u001b[35m▰▰▱▱ Checking app version\u001b[\u001b[35m▰▰▰▱ Checking app version\u001b[\u001b[35m▰▰▰▰ Checking app version\u001b[\u001b[35m▱▰▰▰ Checking app version\u001b[\u001b[35m▱▱▰▰ Checking app version\u001b[\u001b[35m▱▱▱▰ Checking app version\u001b[\u001b[35m▱▱▱▱ Checking app version\u001b[\u001b[35m▰▱▱▱ Checking app version\u001b[\u001b[35m▰▰▱▱ Checking app version\u001b[\u001b[35m▰▰▰▱ Checking app version\u001b[\u001b[35m▰▰▰▰ Checking app version\u001b[\u001b[35m▱▰▰▰ Checking app version\u001b[\u001b[35m▱▱▰▰ Checking app version\u001b[\u001b[35m▱▱▱▰ Checking app version\u001b[\u001b[35m▱▱▱▱ Checking app version\u001b[\u001b[35m▰▱▱▱ Checking app version\u001b[\u001b[35m▰▰▱▱ Checking app version\u001b[\u001b[35m▰▰▰▱ Checking app version\u001b[\u001b[35m▰▰▰▰ Checking app version\u001b[\u001b[35m▱▰▰▰ Checking app version                                        \u001b[2m                                     \u001b[0m\n",
      "\u001b[2m \u001b[0m \u001b[1mRelationalAI\u001b[0m \u001b[2m \u001b[0m \u001b[32m0.3.11\u001b[0m             \u001b[2m \u001b[0m\n",
      "\u001b[2m \u001b[0m \u001b[1mRai-sdk\u001b[0m      \u001b[2m \u001b[0m \u001b[32m0.7.5\u001b[0m              \u001b[2m \u001b[0m\n",
      "\u001b[2m \u001b[0m \u001b[1mPython\u001b[0m       \u001b[2m \u001b[0m \u001b[32m3.11.0\u001b[0m             \u001b[2m \u001b[0m\n",
      "\u001b[2m \u001b[0m \u001b[1mApp\u001b[0m          \u001b[2m \u001b[0m \u001b[32m2024.7.29-89bd1051\u001b[0m \u001b[2m \u001b[0m\n",
      "\u001b[2m                                     \u001b[0m\n",
      "\n",
      "\u001b[2m---------------------------------------------------\u001b[0m\n",
      "\u001b[2m \u001b[0m\n"
     ]
    }
   ],
   "source": [
    "!rai version"
   ]
  },
  {
   "cell_type": "code",
   "execution_count": 3,
   "metadata": {},
   "outputs": [],
   "source": [
    "root_dir=os.getcwd()\n",
    "\n",
    "examples = {}\n",
    "questions = {}\n",
    "base_prompt_paths = {}\n",
    "\n",
    "\n",
    "for head in [\"ir\", \"pyrel\"]:\n",
    "    \n",
    "    base_prompt_paths[head] = os.path.join(root_dir, f\"heads/generate_{head}/base_prompt.txt\")\n",
    "\n",
    "    # Read examples from JSON file\n",
    "    examples_path = os.path.join(root_dir, f\"heads/generate_{head}/examples.json\")\n",
    "    with open(examples_path, 'r', encoding='utf-8') as file:\n",
    "        examples[head] = json.load(file)\n",
    "\n",
    "    # Read questions from JSON file\n",
    "    questions_path = os.path.join(root_dir, f\"heads/generate_{head}/questions.json\")\n",
    "    with open(questions_path, 'r', encoding='utf-8') as file:\n",
    "        questions[head] = json.load(file)"
   ]
  },
  {
   "cell_type": "markdown",
   "metadata": {},
   "source": [
    "## IR generation from NL query"
   ]
  },
  {
   "cell_type": "code",
   "execution_count": 4,
   "metadata": {},
   "outputs": [
    {
     "name": "stdout",
     "output_type": "stream",
     "text": [
      "m: director(m, x); cast_member(m, y); spouse(x, y)\n",
      "\n",
      "m: director(m, x); birth_place(x, y); cast_member(m, z); birth_place(z, y)\n",
      "\n",
      "m: producer(m, x); cast_member(m, y); sibling(x, y)\n",
      "\n",
      "m: director(m, x); cast_member(m, y); parent(x, y)\n",
      "\n",
      "x, y: director(x, \"Christopher Nolan\"); director(y, \"Steven Spielberg\")\n",
      "\n",
      "m1, m2: director(m1, \"Steven Spielberg\"); producer(m2, \"Steven Spielberg\")\n",
      "\n",
      "m: director(m, \"Quentin Tarantino\"); cast_member(m, \"Samuel L. Jackson\"); cast_member(m, \"Robert De Niro\")\n",
      "m: director(m, \"Martin Scorsese\"); cast_member(m, \"Samuel L. Jackson\"); cast_member(m, \"Robert De Niro\")\n",
      "\n",
      "COUNT(m): director(m, \"Christopher Nolan\"); cast_member(m, \"Christian Bale\")\n"
     ]
    }
   ],
   "source": [
    "head = \"ir\"\n",
    "irs = []\n",
    "\n",
    "for question in questions[head]:\n",
    "    prompt = create_prompt_from_file(prompt_file_path=base_prompt_paths[head],\n",
    "                                     examples=examples[head],\n",
    "                                     question=question)\n",
    "    ir = query_llm(task=head, \n",
    "                   prompt=prompt,\n",
    "                   service_run=False)\n",
    "    irs.append(ir)\n",
    "\n",
    "print(\"\\n\\n\".join(irs))"
   ]
  },
  {
   "cell_type": "markdown",
   "metadata": {},
   "source": [
    "## PyRel generation from IR"
   ]
  },
  {
   "cell_type": "code",
   "execution_count": 5,
   "metadata": {},
   "outputs": [
    {
     "name": "stdout",
     "output_type": "stream",
     "text": [
      "with graph.query() as select:\n",
      "    clause0 = clause(object_candidate_ids=None, relation_candidate_ids=[\"P57\",\"P344\"])\n",
      "    clause1 = clause(object_candidate_ids=None, relation_candidate_ids=[\"P161\",\"P674\"])\n",
      "    clause2 = clause(relation_candidate_ids=[\"P26\",\"P8810\"])\n",
      "    clause0.source_ent_id == clause1.source_ent_id\n",
      "    clause0.target_ent_id == clause2.source_ent_id\n",
      "    clause1.target_ent_id == clause2.target_ent_id\n",
      "    res_relations = select(alias(clause0.source_ent_id, \"m\"))\n",
      "results = set(res_relations.results.get(\"m\", []))\n",
      "print(results)\n",
      "\n",
      "with graph.query() as select:\n",
      "    clause0 = clause(object_candidate_ids=None, relation_candidate_ids=[\"P57\",\"P344\"])\n",
      "    clause1 = clause(object_candidate_ids=None, relation_candidate_ids=[\"P161\",\"P674\"])\n",
      "    clause2 = clause(object_candidate_ids=None, relation_candidate_ids=[\"P19\",\"P276\"])\n",
      "    clause3 = clause(object_candidate_ids=None, relation_candidate_ids=[\"P19\",\"P276\"])\n",
      "    clause0.source_ent_id == clause1.source_ent_id\n",
      "    clause0.target_ent_id == clause2.source_ent_id\n",
      "    clause1.target_ent_id == clause3.source_ent_id\n",
      "    clause2.target_ent_id == clause3.target_ent_id\n",
      "    res_relations = select(alias(clause0.source_ent_id, \"m\"))\n",
      "results = set(res_relations.results.get(\"m\", []))\n",
      "print(results)\n",
      "\n",
      "with graph.query() as select:\n",
      "    clause0 = clause(relation_candidate_ids=[\"P162\",\"P1431\"])\n",
      "    clause1 = clause(relation_candidate_ids=[\"P161\",\"P674\"])\n",
      "    clause2 = clause(relation_candidate_ids=[\"P3373\",\"P8810\"])\n",
      "    clause0.target_ent_id == clause2.source_ent_id\n",
      "    clause1.target_ent_id == clause2.target_ent_id\n",
      "    res_relations = select(alias(clause0.source_ent_id, \"m\"))\n",
      "results = set(res_relations.results.get(\"m\", []))\n",
      "print(results)\n",
      "\n",
      "with graph.query() as select:\n",
      "    clause0 = clause(object_candidate_ids=[], relation_candidate_ids=[\"P57\",\"P344\"])\n",
      "    clause1 = clause(object_candidate_ids=[], relation_candidate_ids=[\"P161\",\"P674\"])\n",
      "    clause2 = clause(relation_candidate_ids=[\"P8810\",\"P3373\"])\n",
      "    clause0.source_ent_id == clause1.source_ent_id\n",
      "    clause1.target_ent_id == clause2.source_ent_id\n",
      "    clause2.target_ent_id == clause0.target_ent_id\n",
      "    res_relations = select(alias(clause0.source_ent_id, \"m\"))\n",
      "results = set(res_relations.results.get(\"m\", []))\n",
      "print(results)\n",
      "\n",
      "with graph.query() as select:\n",
      "    clause0 = clause(object_candidate_ids=[\"Q25191\",\"Q58444\"], relation_candidate_ids=[\"P57\",\"344\"])\n",
      "    clause1 = clause(object_candidate_ids=[\"Q8877\",\"Q81328\"], relation_candidate_ids=[\"P57\",\"344\"])\n",
      "    res_results = select(alias(clause0.source_ent_id, \"m1\"), alias(clause1.source_ent_id, \"m2\"))\n",
      "results = set(res_results.results.get(\"m1\", [])).union(set(res_results.results.get(\"m2\", [])))\n",
      "print(results)\n",
      "\n",
      "with graph.query() as select:\n",
      "    clause0 = clause(object_candidate_ids=[\"Q8877\",\"Q81328\"], relation_candidate_ids=[\"P57\",\"P344\"])\n",
      "    clause1 = clause(object_candidate_ids=[\"Q8877\",\"Q81328\"], relation_candidate_ids=[\"P162\",\"P1431\"])\n",
      "    res_results = select(alias(clause0.source_ent_id, \"m1\"), alias(clause1.source_ent_id, \"m2\"))\n",
      "results = set(res_results.results.get(\"m1\", [])).union(set(res_results.results.get(\"m2\", [])))\n",
      "print(results)\n",
      "\n",
      "with graph.query() as select:\n",
      "    clause0 = clause(object_candidate_ids=[\"Q36949\",\"Q41148\"], relation_candidate_ids=[\"P161\",\"P674\"])\n",
      "    clause1 = clause(object_candidate_ids=[\"Q41163\",\"Q4703652\"], relation_candidate_ids=[\"P161\",\"P674\"])\n",
      "    clause0.source_ent_id==clause1.source_ent_id\n",
      "    res_results = select(alias(clause0.source_ent_id, \"m\"))\n",
      "results = set(res_results.results.get(\"m\", []))\n",
      "print(results)\n",
      "\n",
      "with graph.query() as select:\n",
      "    clause0 = clause(object_candidate_ids=[\"Q25191\",\"Q58444\"], relation_candidate_ids=[\"P57\",\"P344\"])\n",
      "    clause1 = clause(object_candidate_ids=[\"Q45772\",\"Q58444\"], relation_candidate_ids=[\"P161\",\"P674\"])\n",
      "    clause2 = clause(relation_candidate_ids=[\"P1040\",\"P123\"])\n",
      "    clause0.source_ent_id==clause1.source_ent_id\n",
      "    clause0.source_ent_id==clause2.source_ent_id\n",
      "    res_results = select(alias(clause2.target_ent_id, \"x\"))\n",
      "results = set(res_results.results.get(\"x\", []))\n",
      "print(results)\n",
      "\n",
      "with graph.query() as select:\n",
      "    clause0 = clause(object_candidate_ids=[\"Q172678\",\"Q26868989\"], relation_candidate_ids=[\"P161\",\"P674\"])\n",
      "    clause1 = clause(object_candidate_ids=[\"Q36949\",\"Q41148\"], relation_candidate_ids=[\"P161\",\"P674\"])\n",
      "    clause2 = clause(object_candidate_ids=[\"Q41148\",\"Q23848\"], relation_candidate_ids=[\"P57\",\"P344\"])\n",
      "    clause0.source_ent_id == clause1.source_ent_id\n",
      "    clause0.source_ent_id == clause2.source_ent_id\n",
      "    clause3 = clause(object_candidate_ids=[\"Q172678\",\"Q26868989\"], relation_candidate_ids=[\"P161\",\"P674\"])\n",
      "    clause4 = clause(object_candidate_ids=[\"Q36949\",\"Q41148\"], relation_candidate_ids=[\"P161\",\"P674\"])\n",
      "    clause5 = clause(object_candidate_ids=[\"Q3772\",\"Q39792\"], relation_candidate_ids=[\"P57\",\"P344\"])\n",
      "    clause3.source_ent_id == clause4.source_ent_id\n",
      "    clause3.source_ent_id == clause5.source_ent_id\n",
      "    res_results = select(alias(clause0.source_ent_id, \"m1\"), alias(clause3.source_ent_id, \"m2\"))\n",
      "results = set(res_results.results.get(\"m1\", [])).union(set(res_results.results.get(\"m2\", [])))\n",
      "print(results)\n"
     ]
    }
   ],
   "source": [
    "head = \"pyrel\"\n",
    "\n",
    "pyrel_queries = []\n",
    "\n",
    "for question in questions[head]:\n",
    "    prompt = create_prompt_from_file(prompt_file_path=base_prompt_paths[head],\n",
    "                                     examples=examples[head],\n",
    "                                     question=question)\n",
    "    pyrel_query = query_llm(task=head, \n",
    "                            prompt=prompt,\n",
    "                            service_run=False)\n",
    "    \n",
    "    pyrel_queries.append(pyrel_query)\n",
    "\n",
    "print(\"\\n\\n\".join(pyrel_queries))"
   ]
  },
  {
   "cell_type": "markdown",
   "metadata": {},
   "source": [
    "## Build the RAI graph model and query it using PyRel\n"
   ]
  },
  {
   "cell_type": "code",
   "execution_count": 6,
   "metadata": {},
   "outputs": [],
   "source": [
    "model_name = \"QirKWikidata2907\"\n",
    "source = \"faiss_db.data_schema\""
   ]
  },
  {
   "cell_type": "markdown",
   "metadata": {},
   "source": [
    "* Ensure that you already created stream of data from SF to RAI. You need to do it once\n",
    "```sh\n",
    "    rai imports:stream --source faiss_db.data_schema.id_labels --model model_name\n",
    "    rai imports:stream --source faiss_db.data_schema.triplets --model model_name\n",
    "```"
   ]
  },
  {
   "cell_type": "code",
   "execution_count": 7,
   "metadata": {},
   "outputs": [],
   "source": [
    "graph = rai.Model(model_name, isolated=False)\n",
    "Labels = graph.Type(\"Labels\", source=f\"{source}.id_labels\")\n",
    "Facts = graph.Type(\"Facts\", source=f\"{source}.triplets\")"
   ]
  },
  {
   "cell_type": "code",
   "execution_count": 8,
   "metadata": {},
   "outputs": [],
   "source": [
    "Triplet = graph.Type(\"Triplet\")\n",
    "\n",
    "with graph.rule():\n",
    "    f = Facts()\n",
    "    Triplet.add(source_ent_id=f.source_ent_id, rid=f.rid, target_ent_id=f.target_ent_id)"
   ]
  },
  {
   "cell_type": "code",
   "execution_count": 9,
   "metadata": {},
   "outputs": [],
   "source": [
    "clause = TripletClause(Triplet)\n",
    "context = {\"graph\": graph, \"clause\": clause, \"alias\": alias}"
   ]
  },
  {
   "cell_type": "code",
   "execution_count": 10,
   "metadata": {},
   "outputs": [],
   "source": [
    "responses_entity_id_format = []\n",
    "\n",
    "for pyrel_query in pyrel_queries:\n",
    "    response = execute_query(pyrel_query, context)\n",
    "    responses_entity_id_format.append(response)"
   ]
  },
  {
   "cell_type": "code",
   "execution_count": 11,
   "metadata": {},
   "outputs": [],
   "source": [
    "responses_nl_format = []\n",
    "\n",
    "for response in responses_entity_id_format:\n",
    "\n",
    "    if response != set():\n",
    "\n",
    "        with graph.query() as select:\n",
    "            lb = Labels()\n",
    "            lb.lid.in_(response)\n",
    "            label_names = select(lb, alias(lb.lname,\"label\"))\n",
    "        responses_nl_format.append(set(label_names.results.get(\"label\", [])))\n",
    "\n",
    "    else:\n",
    "\n",
    "        responses_nl_format.append(set())\n"
   ]
  },
  {
   "cell_type": "code",
   "execution_count": 12,
   "metadata": {},
   "outputs": [
    {
     "name": "stdout",
     "output_type": "stream",
     "text": [
      "Answer of Question 1: A Quiet Place\n",
      "Answer of Question 2: Dunkirk\n",
      "Answer of Question 3: The Royal Tenenbaums\n",
      "Answer of Question 4: A Separation\n",
      "Answer of Question 5: The Prestige, Dunkirk, Inception, Schindler's List, Saving Private Ryan, War Horse, The Dark Knight\n",
      "Answer of Question 6: Men in Black, Jurassic World: Fallen Kingdom, Saving Private Ryan, Schindler's List, War Horse\n",
      "Answer of Question 7: The Irishman, Righteous Kill, Heat\n",
      "Answer of Question 8: Lee Smith\n",
      "Answer of Question 9: Goodfellas, Jackie Brown\n"
     ]
    }
   ],
   "source": [
    "for _, res in enumerate(responses_nl_format):\n",
    "    \n",
    "    res = ', '.join(res) if res != set() else \"NULL\"\n",
    "    print(f\"Answer of Question {_+1}: {res}\")"
   ]
  }
 ],
 "metadata": {
  "kernelspec": {
   "display_name": "qirk_venv",
   "language": "python",
   "name": "python3"
  },
  "language_info": {
   "codemirror_mode": {
    "name": "ipython",
    "version": 3
   },
   "file_extension": ".py",
   "mimetype": "text/x-python",
   "name": "python",
   "nbconvert_exporter": "python",
   "pygments_lexer": "ipython3",
   "version": "3.11.0"
  }
 },
 "nbformat": 4,
 "nbformat_minor": 2
}
