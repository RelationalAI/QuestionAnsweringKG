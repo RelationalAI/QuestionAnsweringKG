{
 "metadata": {
  "kernelspec": {
   "display_name": "pyrel1",
   "language": "python",
   "name": "python3"
  },
  "language_info": {
   "codemirror_mode": {
    "name": "ipython",
    "version": 3
   },
   "file_extension": ".py",
   "mimetype": "text/x-python",
   "name": "python",
   "nbconvert_exporter": "python",
   "pygments_lexer": "ipython3",
   "version": "3.12.4"
  }
 },
 "nbformat_minor": 2,
 "nbformat": 4,
 "cells": [
  {
   "cell_type": "code",
   "id": "ce110000-1111-2222-3333-ffffff000000",
   "metadata": {
    "language": "python",
    "name": "cell1",
    "collapsed": false,
    "codeCollapsed": false
   },
   "outputs": [],
   "source": "import streamlit as st\nfrom PIL import Image\n\n# Load the image\nimage = Image.open('./kgqa_nb.png')\n\n# Display the image in Streamlit\nst.image(image, caption='', use_column_width=True)",
   "execution_count": null
  },
  {
   "cell_type": "markdown",
   "metadata": {
    "name": "cell2"
   },
   "source": [
    "# Question Answering On Knowledge Graphs Using RelationalAI & Snowflake Cortex AI"
   ],
   "id": "ce110000-1111-2222-3333-ffffff000001"
  },
  {
   "cell_type": "markdown",
   "metadata": {
    "name": "cell3",
    "collapsed": false
   },
   "source": [
    "## **Overview**\n",
    "\n",
    "We develop an end-to-end system for answering natural language (NL) questions using a Knowledge Graph (KG), leveraging RelationalAI and Snowflake Cortex AI. Our approach ensures factual accuracy by grounding response in the KG, eliminating the risk of hallucinations typical of LLMs. \n",
    "\n",
    "Our work is an adaptation of [QirK: Question Answering via Intermediate Representation on Knowledge Graphs](https://arxiv.org/abs/2408.07494)"
   ],
   "id": "ce110000-1111-2222-3333-ffffff000002"
  },
  {
   "cell_type": "markdown",
   "metadata": {
    "name": "cell4"
   },
   "source": [
    "- We aim to answer the following questions from our KG."
   ],
   "id": "ce110000-1111-2222-3333-ffffff000003"
  },
  {
   "cell_type": "code",
   "execution_count": 1,
   "metadata": {
    "name": "cell5",
    "language": "python",
    "collapsed": false
   },
   "outputs": [],
   "source": [
    "list_of_questions = [\n",
    "    \"Name the actors of The Silent One.\",\n",
    "    \"Who is the director of The Quiet Place?\",\n",
    "    \"List movies directed by John Kransinski.\",\n",
    "    \"Which movie's director is married to a cast member?\",\n",
    "    \"Which movie's director was born in the same city as one of the cast members?\",\n",
    "    'Name a movie whose producer is the sibling of one of the cast members.',\n",
    "    'In which movie is one of the cast members the child of the director?', \n",
    "    'Name films directed by either Christopher Nolan or Steven Spielberg.',\n",
    "    'Name movies either directed or produced by Steven Spielberg.',\n",
    "    'List the movies that had both Robert De Niro and Al Pacino casted in them?',\n",
    "    'Who\\'s the editor of a film directed by Christopher Nolan that has Christian Bale as a cast member?',\n",
    "    'Name a movie directed by Quentin Tarantino or Martin Scorsese that has De Niro as a cast member.',\n",
    "    \"Name a movie directed by Quentin Tarantino or Martin Scorsese that has both Samuel L. Jackson and Robert De Niro as cast member\"\n",
    "]"
   ],
   "id": "ce110000-1111-2222-3333-ffffff000004"
  },
  {
   "cell_type": "markdown",
   "metadata": {
    "name": "cell6",
    "collapsed": false
   },
   "source": "> **_NOTE:_** Before running the notebook, you need to have :\n\n1. Install [RelationalAI Native App](https://relational.ai/docs/native_app/installation#i-install-the-rai-native-app-for-snowflake)\n\n2. Load RelationalAI in Snowflake Notebook using [Installation Guide](https://relational.ai/docs/native_app/installation#ii-set-up-the-rai-native-app)\n\n3. Install **snowflake** package in Snowflake Notebook environment. \n    - Click the down arrow beside \"Packages\" and type \"snowflake\" in it to install. ",
   "id": "ce110000-1111-2222-3333-ffffff000005"
  },
  {
   "cell_type": "markdown",
   "metadata": {
    "name": "cell7"
   },
   "source": [
    "### Step 1. **Importing Necessary Packages**\n",
    "\n",
    "We start by importing various packages and modules that we'll need for our project."
   ],
   "id": "ce110000-1111-2222-3333-ffffff000006"
  },
  {
   "cell_type": "code",
   "id": "0adb6c9a-a0ba-4e9e-8e36-b56369900dfd",
   "metadata": {
    "language": "python",
    "name": "cell37",
    "collapsed": false
   },
   "outputs": [],
   "source": "import sys\nsys.path.append(\"./relationalai.zip\")",
   "execution_count": null
  },
  {
   "cell_type": "code",
   "execution_count": 2,
   "metadata": {
    "name": "cell8",
    "language": "python",
    "collapsed": false,
    "codeCollapsed": false
   },
   "outputs": [],
   "source": "# relationalai\nimport relationalai as rai\nfrom relationalai.std import alias\n\n# utils\nfrom utils import execute_query, TripletClause, reformat_match_output\n\nfrom os.path import dirname\nfrom os import getcwd\nfrom sys import path\n\npath.insert(0, dirname(getcwd()))",
   "id": "ce110000-1111-2222-3333-ffffff000007"
  },
  {
   "cell_type": "markdown",
   "metadata": {
    "name": "cell9"
   },
   "source": [
    "### Step 2. **Defining KG model & types**"
   ],
   "id": "ce110000-1111-2222-3333-ffffff000008"
  },
  {
   "cell_type": "markdown",
   "metadata": {
    "name": "cell10"
   },
   "source": [
    "- We first create the model, which is a subset of the [Wikidata](https://www.wikidata.org/wiki/Wikidata:Main_Page) focused on movies. \n",
    "\n",
    "We need a Knowledge base to store our data and utilize it to answer questions. The knowledge is structured as triplets or facts in case of Wikidata. A triplet example is (\"A Quiet Place\", \"director\", \"John Krasinski\"), which can be read as \"The director of the movie A Quiet Place is John Krasinski\". The triplets and labels are already loaded in the Snowflake database, but we need to create an executable knowledge base from them to run RelationalAI Python queries."
   ],
   "id": "ce110000-1111-2222-3333-ffffff000009"
  },
  {
   "cell_type": "code",
   "execution_count": 3,
   "metadata": {
    "name": "cell11",
    "language": "python",
    "collapsed": false
   },
   "outputs": [
    {
     "name": "stdout",
     "output_type": "stream",
     "text": [
      "Connecting to ws://0.0.0.0:8080/ws/program...\n",
      "Failed to connect to ws://0.0.0.0:8080/ws/program. Running with debug sink disabled.\n"
     ]
    }
   ],
   "source": "model_name = \"KGModel\"\nkg_model = rai.Model(model_name)",
   "id": "ce110000-1111-2222-3333-ffffff000010"
  },
  {
   "cell_type": "markdown",
   "metadata": {
    "name": "cell12",
    "collapsed": false
   },
   "source": [
    "After defining the model, we need to *create a stream of data between Snowflake & our model* to keep it up-to-date with the Snowflake tables. \n",
    " \n",
    "> **_NOTE:_** It's only needed once for each model.\n",
    "\n",
    " "
   ],
   "id": "ce110000-1111-2222-3333-ffffff000011"
  },
  {
   "cell_type": "code",
   "id": "d96ce727-2977-40fa-9c1f-f25646657458",
   "metadata": {
    "language": "python",
    "name": "cell13",
    "collapsed": false
   },
   "outputs": [],
   "source": "import json\nconfig = json.load(open(\"config.json\"))\ndb_name = config[\"database\"][\"name\"]\nschema_name = config[\"database\"][\"schema\"]",
   "execution_count": null
  },
  {
   "cell_type": "code",
   "id": "00ddbd08-1681-4c9e-b429-16d13bc9abe6",
   "metadata": {
    "language": "python",
    "name": "cell39",
    "collapsed": false
   },
   "outputs": [],
   "source": "# Uncomment the below if a stream from the Snowflake database to RAI Model does not exist.\n\n# provider = rai.Provider()\n\n# provider.create_streams([f\"{db_name}.{schema_name}.id_labels\",\n#                          f\"{db_name}.{schema_name}.triplets\"],\n#                         f\"{model_name}\"\n# )\n",
   "execution_count": null
  },
  {
   "cell_type": "markdown",
   "metadata": {
    "name": "cell14"
   },
   "source": [
    "Next, we build two model types (named `Triplet` & `Label`) using the `kg_model.Type` method.\n",
    "  - `Triplet` stores objects from `temp_db.temp_schema.triplets` table. Each object is represented by `(subject_id, relation_id, object_id)` triplet.\n",
    "  - `Label` stores objects from `temp_db.temp_schema.id_labels` table. Each object is represented by `(id, label)` pair"
   ],
   "id": "ce110000-1111-2222-3333-ffffff000013"
  },
  {
   "cell_type": "code",
   "execution_count": 5,
   "metadata": {
    "name": "cell15",
    "language": "python",
    "collapsed": false
   },
   "outputs": [],
   "source": "# read data from streams into RelationalAI Types\nTriplet = kg_model.Type(\"Triplet\", source=f\"{db_name}.{schema_name}.triplets\")\nLabel = kg_model.Type(\"Label\", source=f\"{db_name}.{schema_name}.id_labels\")",
   "id": "ce110000-1111-2222-3333-ffffff000014"
  },
  {
   "cell_type": "markdown",
   "metadata": {
    "name": "cell16"
   },
   "source": [
    "* Let's run an example query to see a few triplet objects."
   ],
   "id": "ce110000-1111-2222-3333-ffffff000015"
  },
  {
   "cell_type": "code",
   "execution_count": 6,
   "metadata": {
    "name": "cell17",
    "language": "python",
    "collapsed": false
   },
   "outputs": [
    {
     "name": "stdout",
     "output_type": "stream",
     "text": [
      "There are \u001b[1m24745\u001b[0m triplets in kg_model.\n",
      "\n",
      "    subject_entity_id relation_id object_entity_id\n",
      "300         Q10457752         P31           Q11424\n",
      "301          Q1046576        P840              Q18\n",
      "302        Q104679039        P495             Q668\n",
      "303          Q1046841        P161          Q457996\n",
      "304         Q10468573        P161          Q264921\n",
      "305         Q10468708        P495              Q34\n",
      "306         Q10468804       P6216           Q19652\n",
      "307         Q10468821        P272         Q4993551\n",
      "308         Q10469908         P58         Q1957605\n",
      "309         Q10470096        P161         Q4980545\n"
     ]
    }
   ],
   "source": "with kg_model.query() as select:\n    fact = Triplet()\n    res = select(alias(fact.source_ent_id, \"subject_entity_id\"), \n                 alias(fact.rid,\"relation_id\"), \n                 alias(fact.target_ent_id,\"object_entity_id\")\n                 )\n\nprint(f\"There are {len(res.results)} triplets in kg_model.\\n\")\nprint(res.results.iloc[300:310])",
   "id": "ce110000-1111-2222-3333-ffffff000016"
  },
  {
   "cell_type": "markdown",
   "metadata": {
    "name": "cell18"
   },
   "source": [
    "* As another example, we show the label of each triplet shown in the above query."
   ],
   "id": "ce110000-1111-2222-3333-ffffff000017"
  },
  {
   "cell_type": "code",
   "execution_count": 7,
   "metadata": {
    "name": "cell19",
    "language": "python",
    "collapsed": false
   },
   "outputs": [
    {
     "name": "stdout",
     "output_type": "stream",
     "text": [
      "                       subject                 relation                 object\n",
      "300              A Crazy Night              cast member           Ossi Oswalda\n",
      "301       A Crime on the Bayou                 director          Nancy Buirski\n",
      "302  A Cruise in the Albertina              instance of                   film\n",
      "303         A Cry in the Woods  director of photography  John Andreas Andersen\n",
      "304       A Damsel in Distress              cast member          Joan Fontaine\n",
      "305       A Damsel in Distress                    color        black-and-white\n",
      "306           A Dangerous Life         filming location            Philippines\n",
      "307         A Dangerous Summer        country of origin              Australia\n",
      "308                A Dark Song             main subject            forgiveness\n",
      "309               A Dark Truth              cast member            Max Topplin\n"
     ]
    }
   ],
   "source": [
    "with kg_model.query() as select: \n",
    "  fact = Triplet() \n",
    "  label = Label()\n",
    "  \n",
    "  with kg_model.match(): \n",
    "    with fact.source_ent_id == label.lid: \n",
    "      fact.set(subject=label.lname)\n",
    "\n",
    "    with fact.target_ent_id == label.lid: \n",
    "      fact.set(object=label.lname)\n",
    "\n",
    "    with fact.rid == label.lid: \n",
    "      fact.set(predicate=label.lname) \n",
    "      \n",
    "  res = select(alias(fact.subject, \"subject\"), \n",
    "               alias(fact.predicate,\"relation\"), \n",
    "               alias(fact.object,\"object\") \n",
    "               ) \n",
    "\n",
    "print(res.results.iloc[300:310])"
   ],
   "id": "ce110000-1111-2222-3333-ffffff000018"
  },
  {
   "cell_type": "markdown",
   "metadata": {
    "name": "cell20"
   },
   "source": [
    "### Step 3. **An end-to-end pipeline for querying `kg_model` via natural language (NL) question**\n",
    "\n",
    "* Our system is comprised of three main components:\n",
    "\n",
    "1. `generate_ir`: Generating an intermediate representation (IR) from the NL question using Cortex AI \n",
    "    - The IR expresses the complete logical structure of the natural language query by breaking it down into logical components that depict relationships and entities.\n",
    "\n",
    "2. `make_ir_executable`: Constructing executable IR by mapping keywords in the IR to semantically similar items and properties in KG.\n",
    "    - [FAISS](https://github.com/facebookresearch/faiss) (Facebook AI Similarity Search) library is utilized for efficient search in the vector embedding space.  \n",
    "    \n",
    "3. `generate_query`: Generating RelationalAI Python query from Exceutable IR with Cortex AI"
   ],
   "id": "ce110000-1111-2222-3333-ffffff000019"
  },
  {
   "cell_type": "code",
   "id": "ce110000-1111-2222-3333-ffffff000020",
   "metadata": {
    "language": "python",
    "name": "cell21",
    "collapsed": false,
    "codeCollapsed": false
   },
   "outputs": [],
   "source": "# Load the image\nimage = Image.open('./kgqa_example_udf.png')\n\n# Display the image in Streamlit\nst.image(image, caption='Service Functions in Snowpark Container Services', use_column_width=True)",
   "execution_count": null
  },
  {
   "cell_type": "markdown",
   "metadata": {
    "name": "cell22"
   },
   "source": [
    "* Let's get ready to use our system! You need to\n",
    "\n",
    "  - Establish connection with Snowflake to interact with SPCS\n",
    "\n",
    "  - Select your desired Cortex AI models (for the Complete & Embedding tasks) needed in our system\n",
    "  \n",
    "    - Click [here](https://docs.snowflake.com/en/user-guide/snowflake-cortex/llm-functions) to find the list of available models in your region. "
   ],
   "id": "ce110000-1111-2222-3333-ffffff000021"
  },
  {
   "cell_type": "code",
   "execution_count": 8,
   "metadata": {
    "name": "cell23",
    "language": "python",
    "collapsed": false
   },
   "outputs": [],
   "source": "## Pick your favorite Cortex AI models for Complete & Embedding tasks\nllm_name = \"llama3.1-70b\"\nembedding_model_name = \"e5-base-v2\"",
   "id": "ce110000-1111-2222-3333-ffffff000022"
  },
  {
   "cell_type": "code",
   "id": "e85a2262-ded3-4803-88eb-2c59bd200c4f",
   "metadata": {
    "language": "python",
    "name": "cell38",
    "collapsed": false
   },
   "outputs": [],
   "source": "from snowflake.snowpark.context import get_active_session\nsession = get_active_session()",
   "execution_count": null
  },
  {
   "cell_type": "markdown",
   "metadata": {
    "name": "cell24"
   },
   "source": [
    "* Next, we iteratively process each NL question to\n",
    "\n",
    "  - generate the IR, make it executable and generate the corresponding RelationalAI Python query \n",
    "\n",
    "\n",
    "\n",
    "#### Troubleshooting\n",
    "\n",
    "In case you encounter the following issue, please follow the recommended steps:\n",
    "\n",
    "- *Server Overload Error*\n",
    "  \n",
    "   If the Snowflake server becomes unresponsive and shows a 'Server overloaded' error:\n",
    "   - To resolve the issue, run ['this'](https://github.com/RelationalAI/llms-mlds/blob/main/kgqa_docker/README.md#step-6--launch-a-snowflake-service---copy-paste-output-to-sf-worksheet-and-run) from Line that says *\"DROP SERVICE IF EXISTS <service_name_defined_in_config>;\"*"
   ],
   "id": "ce110000-1111-2222-3333-ffffff000023"
  },
  {
   "cell_type": "code",
   "execution_count": 9,
   "metadata": {
    "name": "cell25",
    "language": "python",
    "collapsed": false
   },
   "outputs": [],
   "source": "# Initialize the list of IR, FAISS output, and RelationalAI Python queries\nirs = []\nfaiss_output = []\nrelationalai_queries = []\n\n# process each NL question\nfor nlq in list_of_questions:\n\n    # Step 1: NL question to IR\n\n    # parse the question for SQL query\n    nlq = nlq.replace(\"'\",\"''\")\n\n    # query IR service & get the IR\n    query = f\"\"\"SELECT generate_ir('{nlq}', '{llm_name}') as result;\"\"\"\n    ir = session.sql(query).collect()\n    ir = ir[0].RESULT[1:-1]\n\n    irs.append(ir)\n\n    # Step 2: Generating executable IR using similarity search (SS) over the KG\n\n    # query SS service\n    query = f\"\"\"SELECT make_ir_executable('{ir}', '{embedding_model_name}') as result;\"\"\"\n    df_ss = session.sql(query).collect()[0].RESULT\n\n    # Extract SS outputs from df_ss\n    matches, scores = reformat_match_output(df_ss)\n    matches = str(matches).replace(\"'\",'\"')\n    faiss_output.append(matches)\n\n    # Step 3: Generating RelationalAI Python query\n\n    # query query generator service\n    query = f\"\"\"SELECT generate_query('{nlq}','{ir}','{matches}', '{llm_name}') as result;\"\"\"\n    relationalai_query = session.sql(query).collect()[0].RESULT\n\n    # Parse RelationalAI query\n    relationalai_query = relationalai_query.replace(\"\\\\n\",\"\\n\").replace(\"\\\\\",\"\").strip('\"')\n    \n    relationalai_queries.append(relationalai_query)",
   "id": "ce110000-1111-2222-3333-ffffff000024"
  },
  {
   "cell_type": "markdown",
   "metadata": {
    "name": "cell26"
   },
   "source": [
    "* Let's see how the system translates the first NL question into a RelationalAI Python query."
   ],
   "id": "ce110000-1111-2222-3333-ffffff000025"
  },
  {
   "cell_type": "code",
   "execution_count": 10,
   "metadata": {
    "name": "cell27",
    "language": "python",
    "collapsed": false
   },
   "outputs": [
    {
     "name": "stdout",
     "output_type": "stream",
     "text": [
      "\u001b[1mNL Query\u001b[0m \n",
      " List movies directed by John Kransinski.\n",
      "\n",
      "\u001b[1mIR\u001b[0m \n",
      " m: director(m, \\\"John Krasinski\\\")\n",
      "\n",
      "\u001b[1mRelationalAI Python query\u001b[0m \n",
      "\n",
      " with graph.query() as select:\n",
      "    clause0 = clause(object_candidate_ids=[\"Q313039\",\"Q95008\"], relation_candidate_ids=[\"P57\",\"P344\"])\n",
      "    res_relations = select(alias(clause0.source_ent_id, \"m\"))\n",
      "results = set(res_relations.results.get(\"m\", []))\n",
      "print(results)\n"
     ]
    }
   ],
   "source": "i = 2\nprint(f\"NL Query \\n {list_of_questions[i]} \\n\")\nprint(f\"IR \\n {irs[i]} \\n\")\nprint(f\"RelationalAI Python query \\n {relationalai_queries[i]}\")",
   "id": "ce110000-1111-2222-3333-ffffff000026"
  },
  {
   "cell_type": "markdown",
   "metadata": {
    "name": "cell28",
    "collapsed": false
   },
   "source": [
    "* Now, let's run the generated queries to see the results.\n",
    "\n",
    "  - Note that, running the queries retrieves the IDs of the response."
   ],
   "id": "ce110000-1111-2222-3333-ffffff000027"
  },
  {
   "cell_type": "code",
   "execution_count": 11,
   "metadata": {
    "name": "cell29",
    "language": "python",
    "collapsed": false
   },
   "outputs": [],
   "source": "# Define the context dictionary to be used in query execution\nclause = TripletClause(Triplet)\ncontext = {\"graph\": kg_model, \"clause\": clause, \"alias\": alias}\n\n# Initialize the list of QIDs of the response \nresponses_entity_id_format = []\n\n# Iterate over relationalai queries\nfor q in relationalai_queries:\n    # Execute relationalai query to get QID of the response\n    response = execute_query(q, context)\n    responses_entity_id_format.append(response)",
   "id": "ce110000-1111-2222-3333-ffffff000028"
  },
  {
   "cell_type": "markdown",
   "metadata": {
    "name": "cell30",
    "collapsed": false
   },
   "source": "* With IDs at hand, we can easily retrieve the Natural Language responses by joining IDs with their corresponding labels.",
   "id": "ce110000-1111-2222-3333-ffffff000029"
  },
  {
   "cell_type": "code",
   "execution_count": 12,
   "metadata": {
    "name": "cell31",
    "language": "python",
    "collapsed": false
   },
   "outputs": [],
   "source": [
    "responses_nl_format = []\n",
    "\n",
    "# Iterate over non-empty responses \n",
    "for response in responses_entity_id_format:\n",
    "\n",
    "    if response != set():\n",
    "\n",
    "        # Get the label of all IDs in response set\n",
    "        with kg_model.query() as select:\n",
    "            lb = Label()\n",
    "            lb.lid.in_(response)\n",
    "            label_names = select(lb, alias(lb.lname,\"label\"))\n",
    "        responses_nl_format.append(set(label_names.results.get(\"label\", [])))\n",
    "\n",
    "    else:\n",
    "\n",
    "        responses_nl_format.append(set())"
   ],
   "id": "ce110000-1111-2222-3333-ffffff000030"
  },
  {
   "cell_type": "markdown",
   "metadata": {
    "name": "cell32"
   },
   "source": [
    "* We wrap up by displaying the questions with their corresponding answers."
   ],
   "id": "ce110000-1111-2222-3333-ffffff000031"
  },
  {
   "cell_type": "code",
   "execution_count": 13,
   "metadata": {
    "name": "cell33",
    "language": "python",
    "collapsed": false
   },
   "outputs": [
    {
     "name": "stdout",
     "output_type": "stream",
     "text": [
      "Question: Name the actors of The Silent One.\n",
      "Answer: Alan Adair, Linda Gray, Suzanne Flon, Lea Massari\n",
      "\n",
      "==========\n",
      "\n",
      "Question: Who is the director of The Quiet Place?\n",
      "Answer: John Krasinski\n",
      "\n",
      "==========\n",
      "\n",
      "Question: List movies directed by John Kransinski.\n",
      "Answer: A Quiet Place\n",
      "\n",
      "==========\n",
      "\n",
      "Question: Which movie's director is married to a cast member?\n",
      "Answer: A Quiet Place\n",
      "\n",
      "==========\n",
      "\n",
      "Question: Which movie's director was born in the same city as one of the cast members?\n",
      "Answer: Dunkirk\n",
      "\n",
      "==========\n",
      "\n",
      "Question: Name a movie whose producer is the sibling of one of the cast members.\n",
      "Answer: The Royal Tenenbaums\n",
      "\n",
      "==========\n",
      "\n",
      "Question: In which movie is one of the cast members the child of the director?\n",
      "Answer: A Separation\n",
      "\n",
      "==========\n",
      "\n",
      "Question: Name films directed by either Christopher Nolan or Steven Spielberg.\n",
      "Answer: War Horse, Schindler's List, The Dark Knight, Saving Private Ryan, The Prestige, Dunkirk, Inception\n",
      "\n",
      "==========\n",
      "\n",
      "Question: Name movies either directed or produced by Steven Spielberg.\n",
      "Answer: War Horse, Schindler's List, Saving Private Ryan, Jurassic World: Fallen Kingdom, Men in Black\n",
      "\n",
      "==========\n",
      "\n",
      "Question: List the movies that had both Robert De Niro and Al Pacino casted in them?\n",
      "Answer: The Irishman, Righteous Kill, Heat\n",
      "\n",
      "==========\n",
      "\n",
      "Question: Who's the editor of a film directed by Christopher Nolan that has Christian Bale as a cast member?\n",
      "Answer: Lee Smith\n",
      "\n",
      "==========\n",
      "\n",
      "Question: Name a movie directed by Quentin Tarantino or Martin Scorsese that has De Niro as a cast member.\n",
      "Answer: The Irishman, Goodfellas, Jackie Brown\n",
      "\n",
      "==========\n",
      "\n",
      "Question: Name a movie directed by Quentin Tarantino or Martin Scorsese that has both Samuel L. Jackson and Robert De Niro as cast member\n",
      "Answer: Goodfellas, Jackie Brown\n",
      "\n",
      "==========\n",
      "\n"
     ]
    }
   ],
   "source": [
    "for idx, res in enumerate(responses_nl_format):\n",
    "    \n",
    "    res = ', '.join(res) if res != set() else \"NULL\"\n",
    "    print(f\"Question: {list_of_questions[idx]}\")\n",
    "    print(f\"Answer: {res}\")\n",
    "    print(\"\\n==========\\n\")"
   ],
   "id": "ce110000-1111-2222-3333-ffffff000032"
  },
  {
   "cell_type": "markdown",
   "metadata": {
    "name": "cell34"
   },
   "source": [
    "We’ve verified all the answers to the questions, and they’re accurate according to the current Wikidata snapshot!"
   ],
   "id": "ce110000-1111-2222-3333-ffffff000033"
  },
  {
   "cell_type": "markdown",
   "metadata": {
    "name": "cell35"
   },
   "source": [
    "Brought to you by [RelationalAI](https://relational.ai) & Snowflake Native Applications!"
   ],
   "id": "ce110000-1111-2222-3333-ffffff000034"
  }
 ]
}